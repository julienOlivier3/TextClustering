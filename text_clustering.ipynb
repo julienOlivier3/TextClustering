{
 "cells": [
  {
   "cell_type": "markdown",
   "id": "c71da86c-cf86-402a-bde2-44abc3bc039b",
   "metadata": {
    "tags": []
   },
   "source": [
    "# Document Clustering of News Articles"
   ]
  },
  {
   "cell_type": "markdown",
   "id": "d40c9878-6c49-469e-9b79-b710ceb1793b",
   "metadata": {},
   "source": [
    "After setting up a new GitHub repository and creating a virtual environment, I first install all required modules into the environment."
   ]
  },
  {
   "cell_type": "code",
   "execution_count": 63,
   "id": "e23cfdb9-2410-487b-862d-44e6467003ac",
   "metadata": {
    "collapsed": true,
    "jupyter": {
     "outputs_hidden": true
    },
    "tags": []
   },
   "outputs": [
    {
     "name": "stdout",
     "output_type": "stream",
     "text": [
      "Requirement already satisfied: pandas in c:\\users\\jdo\\appdata\\local\\continuum\\anaconda3\\envs\\usecase\\lib\\site-packages (1.4.0)\n",
      "Requirement already satisfied: numpy in c:\\users\\jdo\\appdata\\local\\continuum\\anaconda3\\envs\\usecase\\lib\\site-packages (1.22.1)\n",
      "Requirement already satisfied: scikit-learn in c:\\users\\jdo\\appdata\\local\\continuum\\anaconda3\\envs\\usecase\\lib\\site-packages (1.0.2)\n",
      "Requirement already satisfied: matplotlib in c:\\users\\jdo\\appdata\\local\\continuum\\anaconda3\\envs\\usecase\\lib\\site-packages (3.5.1)\n",
      "Collecting sentence-transformers\n",
      "  Using cached sentence_transformers-2.1.0-py3-none-any.whl\n",
      "Requirement already satisfied: pytz>=2020.1 in c:\\users\\jdo\\appdata\\local\\continuum\\anaconda3\\envs\\usecase\\lib\\site-packages (from pandas) (2021.3)\n",
      "Requirement already satisfied: python-dateutil>=2.8.1 in c:\\users\\jdo\\appdata\\local\\continuum\\anaconda3\\envs\\usecase\\lib\\site-packages (from pandas) (2.8.2)\n",
      "Requirement already satisfied: joblib>=0.11 in c:\\users\\jdo\\appdata\\local\\continuum\\anaconda3\\envs\\usecase\\lib\\site-packages (from scikit-learn) (1.1.0)\n",
      "Requirement already satisfied: threadpoolctl>=2.0.0 in c:\\users\\jdo\\appdata\\local\\continuum\\anaconda3\\envs\\usecase\\lib\\site-packages (from scikit-learn) (3.0.0)\n",
      "Requirement already satisfied: scipy>=1.1.0 in c:\\users\\jdo\\appdata\\local\\continuum\\anaconda3\\envs\\usecase\\lib\\site-packages (from scikit-learn) (1.7.3)\n",
      "Requirement already satisfied: cycler>=0.10 in c:\\users\\jdo\\appdata\\local\\continuum\\anaconda3\\envs\\usecase\\lib\\site-packages (from matplotlib) (0.11.0)\n",
      "Requirement already satisfied: fonttools>=4.22.0 in c:\\users\\jdo\\appdata\\local\\continuum\\anaconda3\\envs\\usecase\\lib\\site-packages (from matplotlib) (4.29.0)\n",
      "Requirement already satisfied: pillow>=6.2.0 in c:\\users\\jdo\\appdata\\local\\continuum\\anaconda3\\envs\\usecase\\lib\\site-packages (from matplotlib) (9.0.0)\n",
      "Requirement already satisfied: packaging>=20.0 in c:\\users\\jdo\\appdata\\local\\continuum\\anaconda3\\envs\\usecase\\lib\\site-packages (from matplotlib) (21.3)\n",
      "Requirement already satisfied: pyparsing>=2.2.1 in c:\\users\\jdo\\appdata\\local\\continuum\\anaconda3\\envs\\usecase\\lib\\site-packages (from matplotlib) (3.0.4)\n",
      "Requirement already satisfied: kiwisolver>=1.0.1 in c:\\users\\jdo\\appdata\\local\\continuum\\anaconda3\\envs\\usecase\\lib\\site-packages (from matplotlib) (1.3.2)\n",
      "Collecting torch>=1.6.0\n",
      "  Downloading torch-1.10.2-cp39-cp39-win_amd64.whl (226.5 MB)\n",
      "Collecting tqdm\n",
      "  Downloading tqdm-4.62.3-py2.py3-none-any.whl (76 kB)\n",
      "Collecting sentencepiece\n",
      "  Using cached sentencepiece-0.1.96-cp39-cp39-win_amd64.whl (1.1 MB)\n",
      "Collecting nltk\n",
      "  Downloading nltk-3.6.7-py3-none-any.whl (1.5 MB)\n",
      "Collecting huggingface-hub\n",
      "  Downloading huggingface_hub-0.4.0-py3-none-any.whl (67 kB)\n",
      "Collecting tokenizers>=0.10.3\n",
      "  Downloading tokenizers-0.11.4-cp39-cp39-win_amd64.whl (3.3 MB)\n",
      "Collecting torchvision\n",
      "  Downloading torchvision-0.11.3-cp39-cp39-win_amd64.whl (947 kB)\n",
      "Collecting transformers<5.0.0,>=4.6.0\n",
      "  Downloading transformers-4.16.0-py3-none-any.whl (3.5 MB)\n",
      "Requirement already satisfied: six>=1.5 in c:\\users\\jdo\\appdata\\local\\continuum\\anaconda3\\envs\\usecase\\lib\\site-packages (from python-dateutil>=2.8.1->pandas) (1.16.0)\n",
      "Collecting typing-extensions\n",
      "  Downloading typing_extensions-4.0.1-py3-none-any.whl (22 kB)\n",
      "Collecting regex!=2019.12.17\n",
      "  Downloading regex-2022.1.18-cp39-cp39-win_amd64.whl (273 kB)\n",
      "Collecting pyyaml>=5.1\n",
      "  Downloading PyYAML-6.0-cp39-cp39-win_amd64.whl (151 kB)\n",
      "Collecting sacremoses\n",
      "  Downloading sacremoses-0.0.47-py2.py3-none-any.whl (895 kB)\n",
      "Requirement already satisfied: requests in c:\\users\\jdo\\appdata\\local\\continuum\\anaconda3\\envs\\usecase\\lib\\site-packages (from transformers<5.0.0,>=4.6.0->sentence-transformers) (2.27.1)\n",
      "Collecting filelock\n",
      "  Downloading filelock-3.4.2-py3-none-any.whl (9.9 kB)\n",
      "Requirement already satisfied: colorama in c:\\users\\jdo\\appdata\\local\\continuum\\anaconda3\\envs\\usecase\\lib\\site-packages (from tqdm->sentence-transformers) (0.4.4)\n",
      "Collecting click\n",
      "  Downloading click-8.0.3-py3-none-any.whl (97 kB)\n",
      "Requirement already satisfied: certifi>=2017.4.17 in c:\\users\\jdo\\appdata\\local\\continuum\\anaconda3\\envs\\usecase\\lib\\site-packages (from requests->transformers<5.0.0,>=4.6.0->sentence-transformers) (2021.10.8)\n",
      "Requirement already satisfied: urllib3<1.27,>=1.21.1 in c:\\users\\jdo\\appdata\\local\\continuum\\anaconda3\\envs\\usecase\\lib\\site-packages (from requests->transformers<5.0.0,>=4.6.0->sentence-transformers) (1.26.7)\n",
      "Requirement already satisfied: charset-normalizer~=2.0.0 in c:\\users\\jdo\\appdata\\local\\continuum\\anaconda3\\envs\\usecase\\lib\\site-packages (from requests->transformers<5.0.0,>=4.6.0->sentence-transformers) (2.0.4)\n",
      "Requirement already satisfied: idna<4,>=2.5 in c:\\users\\jdo\\appdata\\local\\continuum\\anaconda3\\envs\\usecase\\lib\\site-packages (from requests->transformers<5.0.0,>=4.6.0->sentence-transformers) (3.3)\n",
      "Installing collected packages: typing-extensions, tqdm, regex, pyyaml, filelock, click, torch, tokenizers, sacremoses, huggingface-hub, transformers, torchvision, sentencepiece, nltk, sentence-transformers\n",
      "Successfully installed click-8.0.3 filelock-3.4.2 huggingface-hub-0.4.0 nltk-3.6.7 pyyaml-6.0 regex-2022.1.18 sacremoses-0.0.47 sentence-transformers-2.1.0 sentencepiece-0.1.96 tokenizers-0.11.4 torch-1.10.2 torchvision-0.11.3 tqdm-4.62.3 transformers-4.16.0 typing-extensions-4.0.1\n"
     ]
    }
   ],
   "source": [
    "!pip install pandas numpy scikit-learn matplotlib sentence-transformers"
   ]
  },
  {
   "cell_type": "markdown",
   "id": "e6e40a11-add0-4c6c-8d3c-390846fa3aa6",
   "metadata": {
    "tags": []
   },
   "source": [
    "# Text inspection "
   ]
  },
  {
   "cell_type": "markdown",
   "id": "ee49815b-ab8c-486d-9acc-78ccb0544d68",
   "metadata": {},
   "source": [
    "Let's load the required modules"
   ]
  },
  {
   "cell_type": "code",
   "execution_count": 1,
   "id": "3198054a-547e-44fa-9c83-3b46bd38f39d",
   "metadata": {},
   "outputs": [],
   "source": [
    "import pandas as pd\n",
    "import numpy as np"
   ]
  },
  {
   "cell_type": "markdown",
   "id": "69e16d68-b941-4f7b-bfe6-3aae47978eee",
   "metadata": {},
   "source": [
    "Let us load the texts and labels first and check whether the index in both files (`preproc_texts.csv` and `labels.csv`) can be assumed as reasonable document ID."
   ]
  },
  {
   "cell_type": "code",
   "execution_count": 9,
   "id": "9a3c40b7-e093-409c-8fb3-b82adfcc5983",
   "metadata": {},
   "outputs": [],
   "source": [
    "texts = pd.read_csv('./preproc_texts.csv', header=None, names=['text'])\n",
    "labels = pd.read_csv('./labels.csv', header=None, names=['label'])"
   ]
  },
  {
   "cell_type": "code",
   "execution_count": 29,
   "id": "24b4df1e-2e10-4894-aeb8-f0a5dc366a3f",
   "metadata": {},
   "outputs": [
    {
     "data": {
      "text/html": [
       "<div>\n",
       "<style scoped>\n",
       "    .dataframe tbody tr th:only-of-type {\n",
       "        vertical-align: middle;\n",
       "    }\n",
       "\n",
       "    .dataframe tbody tr th {\n",
       "        vertical-align: top;\n",
       "    }\n",
       "\n",
       "    .dataframe thead th {\n",
       "        text-align: right;\n",
       "    }\n",
       "</style>\n",
       "<table border=\"1\" class=\"dataframe\">\n",
       "  <thead>\n",
       "    <tr style=\"text-align: right;\">\n",
       "      <th></th>\n",
       "      <th>text</th>\n",
       "      <th>label</th>\n",
       "    </tr>\n",
       "  </thead>\n",
       "  <tbody>\n",
       "    <tr>\n",
       "      <th>8</th>\n",
       "      <td>Air pollution in national parks as bad as some...</td>\n",
       "      <td>pollution_national_parks</td>\n",
       "    </tr>\n",
       "    <tr>\n",
       "      <th>15</th>\n",
       "      <td>Health Minister Ginette Petitpas Taylor unveil...</td>\n",
       "      <td>health_foodguide_canada</td>\n",
       "    </tr>\n",
       "    <tr>\n",
       "      <th>3</th>\n",
       "      <td>An innovative high school robotics team from M...</td>\n",
       "      <td>robotics_team_builds_wheelchair</td>\n",
       "    </tr>\n",
       "    <tr>\n",
       "      <th>35</th>\n",
       "      <td>Imagine lying in bed for weeks on end eating a...</td>\n",
       "      <td>artificial_bed_rest_nasa_study</td>\n",
       "    </tr>\n",
       "    <tr>\n",
       "      <th>1</th>\n",
       "      <td>Earlier today we wrote that Microsoft was goin...</td>\n",
       "      <td>linux_kernel_windows</td>\n",
       "    </tr>\n",
       "  </tbody>\n",
       "</table>\n",
       "</div>"
      ],
      "text/plain": [
       "                                                 text  \\\n",
       "8   Air pollution in national parks as bad as some...   \n",
       "15  Health Minister Ginette Petitpas Taylor unveil...   \n",
       "3   An innovative high school robotics team from M...   \n",
       "35  Imagine lying in bed for weeks on end eating a...   \n",
       "1   Earlier today we wrote that Microsoft was goin...   \n",
       "\n",
       "                              label  \n",
       "8          pollution_national_parks  \n",
       "15          health_foodguide_canada  \n",
       "3   robotics_team_builds_wheelchair  \n",
       "35   artificial_bed_rest_nasa_study  \n",
       "1              linux_kernel_windows  "
      ]
     },
     "execution_count": 29,
     "metadata": {},
     "output_type": "execute_result"
    }
   ],
   "source": [
    "df = texts.merge(labels, left_index=True, right_index=True)\n",
    "df.sample(5)"
   ]
  },
  {
   "cell_type": "markdown",
   "id": "2cab79d8-0e8c-4320-ae6c-2eda329b0995",
   "metadata": {},
   "source": [
    "Form the small sample below, it looks like that the row index reflects indeed the document ID since document labels seem to reasonably reflect the documents' content."
   ]
  },
  {
   "cell_type": "markdown",
   "id": "6105a930-089e-4b9f-8289-864bfaa9041b",
   "metadata": {},
   "source": [
    "Let us quickly check whether the labels are balanced in the data? This is important since unbalanced data typically requires special consideration when training classification models (e.g. inverse class weights)."
   ]
  },
  {
   "cell_type": "code",
   "execution_count": 20,
   "id": "379fb619-1347-4f9d-adec-856f30b647e0",
   "metadata": {},
   "outputs": [
    {
     "data": {
      "text/plain": [
       "<AxesSubplot:>"
      ]
     },
     "execution_count": 20,
     "metadata": {},
     "output_type": "execute_result"
    },
    {
     "data": {
      "image/png": "[encoded data removed]",
      "text/plain": [
       "<Figure size 432x288 with 1 Axes>"
      ]
     },
     "metadata": {
      "needs_background": "light"
     },
     "output_type": "display_data"
    }
   ],
   "source": [
    "labels.label.value_counts().plot(kind=\"bar\")"
   ]
  },
  {
   "cell_type": "markdown",
   "id": "38d1aa92-f6f7-4ac3-9828-f950aedadb91",
   "metadata": {},
   "source": [
    "Lucky us, the distribution across the class labels is highly balanced ;)! That is a good starting point to train a classification model."
   ]
  },
  {
   "cell_type": "markdown",
   "id": "296bcf52-1343-40ef-95f0-e7a663de3361",
   "metadata": {},
   "source": [
    "How does the length of the texts look like? Any outliers?"
   ]
  },
  {
   "cell_type": "code",
   "execution_count": 23,
   "id": "ab762074-ac69-4b3c-a36c-581fb565201e",
   "metadata": {},
   "outputs": [
    {
     "data": {
      "text/plain": [
       "<AxesSubplot:ylabel='Frequency'>"
      ]
     },
     "execution_count": 23,
     "metadata": {},
     "output_type": "execute_result"
    },
    {
     "data": {
      "image/png": "[encoded data removed]",
      "text/plain": [
       "<Figure size 432x288 with 1 Axes>"
      ]
     },
     "metadata": {
      "needs_background": "light"
     },
     "output_type": "display_data"
    }
   ],
   "source": [
    "texts.text.apply(len).plot(kind=\"hist\")"
   ]
  },
  {
   "cell_type": "markdown",
   "id": "2a3f0e52-c4d8-48a8-8100-4152f051effc",
   "metadata": {},
   "source": [
    "There are some rather small news texts. Are they somehow special which is why we should treat them as \"outliers\" possibly removing from further analysis?"
   ]
  },
  {
   "cell_type": "code",
   "execution_count": 30,
   "id": "eaa88d9f-4d63-4824-bf02-e9d0e7b416d3",
   "metadata": {},
   "outputs": [
    {
     "data": {
      "text/html": [
       "<style type=\"text/css\">\n",
       "#T_3e044_row0_col0, #T_3e044_row1_col0, #T_3e044_row2_col0, #T_3e044_row3_col0, #T_3e044_row4_col0 {\n",
       "  width: 900px;\n",
       "}\n",
       "</style>\n",
       "<table id=\"T_3e044\">\n",
       "  <thead>\n",
       "    <tr>\n",
       "      <th class=\"blank level0\" >&nbsp;</th>\n",
       "      <th id=\"T_3e044_level0_col0\" class=\"col_heading level0 col0\" >text</th>\n",
       "      <th id=\"T_3e044_level0_col1\" class=\"col_heading level0 col1\" >label</th>\n",
       "    </tr>\n",
       "  </thead>\n",
       "  <tbody>\n",
       "    <tr>\n",
       "      <th id=\"T_3e044_level0_row0\" class=\"row_heading level0 row0\" >10</th>\n",
       "      <td id=\"T_3e044_row0_col0\" class=\"data row0 col0\" >Climate change is the greatest threat that we all face but it is the school kids of today whose futures are most on the line They are right to feel let down by the generation before them and it inspiring to see them making their voice heard today</td>\n",
       "      <td id=\"T_3e044_row0_col1\" class=\"data row0 col1\" >climate_change_strike</td>\n",
       "    </tr>\n",
       "    <tr>\n",
       "      <th id=\"T_3e044_level0_row1\" class=\"row_heading level0 row1\" >12</th>\n",
       "      <td id=\"T_3e044_row1_col0\" class=\"data row1 col0\" >Why did this happen Please make sure your browser supports JavaScript and cookies and that you are not blocking them from loading For more information you can review our Terms of Service and Cookie Policy</td>\n",
       "      <td id=\"T_3e044_row1_col1\" class=\"data row1 col1\" >pollution_national_parks</td>\n",
       "    </tr>\n",
       "    <tr>\n",
       "      <th id=\"T_3e044_level0_row2\" class=\"row_heading level0 row2\" >14</th>\n",
       "      <td id=\"T_3e044_row2_col0\" class=\"data row2 col0\" >What term do you want to search Search with google</td>\n",
       "      <td id=\"T_3e044_row2_col1\" class=\"data row2 col1\" >uk_inflation_data</td>\n",
       "    </tr>\n",
       "    <tr>\n",
       "      <th id=\"T_3e044_level0_row3\" class=\"row_heading level0 row3\" >28</th>\n",
       "      <td id=\"T_3e044_row3_col0\" class=\"data row3 col0\" >Researchers at Iowa State and Cornell universities looked at more than two decades of data on ozone pollution at parks from Shenandoah to Yellowstone the Grand Canyon and Yosemite They say visitor numbers dropped almost percent when ozone levels went up even slightly and by at least percent in months with three or more days of high ozone levels compared with months with fewer days of high ozone</td>\n",
       "      <td id=\"T_3e044_row3_col1\" class=\"data row3 col1\" >pollution_national_parks</td>\n",
       "    </tr>\n",
       "    <tr>\n",
       "      <th id=\"T_3e044_level0_row4\" class=\"row_heading level0 row4\" >32</th>\n",
       "      <td id=\"T_3e044_row4_col0\" class=\"data row4 col0\" >Historian Camille Pascal told French broadcaster BFMTV that invaluable heritage had been destroyed adding Happy and unfortunate events for centuries have been marked by the bells of Notre Dame We can be only horrified by what we see</td>\n",
       "      <td id=\"T_3e044_row4_col1\" class=\"data row4 col1\" >fire_france_cathedral</td>\n",
       "    </tr>\n",
       "  </tbody>\n",
       "</table>\n"
      ],
      "text/plain": [
       "<pandas.io.formats.style.Styler at 0x24957f16bb0>"
      ]
     },
     "execution_count": 30,
     "metadata": {},
     "output_type": "execute_result"
    }
   ],
   "source": [
    "df.loc[df.text.apply(len)<500].style.set_properties(subset=['text'], **{'width': '900px'})"
   ]
  },
  {
   "cell_type": "markdown",
   "id": "ab44c74a-4d90-4f57-93ac-9e1860ab9863",
   "metadata": {},
   "source": [
    "Indeed, it looks like that the news text with indices **12** and **14** do not really represent news articles. To me, these observations should be disregarded. Scraping can sometimes be painful ;)"
   ]
  },
  {
   "cell_type": "code",
   "execution_count": 32,
   "id": "1fdcc68a-fb4d-4cf1-8708-e53e726a900d",
   "metadata": {},
   "outputs": [],
   "source": [
    "df.drop(index=[12,14], inplace=True)"
   ]
  },
  {
   "cell_type": "code",
   "execution_count": 33,
   "id": "4874d65a-d82c-416b-b823-4b77b035db46",
   "metadata": {},
   "outputs": [
    {
     "data": {
      "text/plain": [
       "(35, 2)"
      ]
     },
     "execution_count": 33,
     "metadata": {},
     "output_type": "execute_result"
    }
   ],
   "source": [
    "df.shape"
   ]
  },
  {
   "cell_type": "markdown",
   "id": "c160b9ee-70a6-4c52-a83a-f48bbfd6f599",
   "metadata": {
    "tags": []
   },
   "source": [
    "# Text clustering"
   ]
  },
  {
   "cell_type": "markdown",
   "id": "6e46fee7-37e9-4911-b45f-2e97ede8d7bd",
   "metadata": {},
   "source": [
    "I can think of two approaches to conduct the clustering depending on wehther the labels are known to us as modelers or not:\n",
    "\n",
    "- If they are not known, we need to think of an effective way to vectorize the texts' *context* -> unsupervised clustering task \n",
    "\n",
    "- If they are known to us, we shall use them! -> clustering as supervised classification task"
   ]
  },
  {
   "cell_type": "markdown",
   "id": "181b76b1-efc3-4c3a-b4bc-94840cc43ce9",
   "metadata": {},
   "source": [
    "## Unsupervised clustering task"
   ]
  },
  {
   "cell_type": "markdown",
   "id": "dcdfea11-2d79-493c-9dbd-6bc2e3bd956b",
   "metadata": {},
   "source": [
    "First, we vectorize the texts using the power of pre-trained transfomer models. These large (many parameters) neural networks with a complex architecture (bidirectional encoders) that trained on massive amount of text corpora. Exploiting the word co-occurence statistics from these text corpora allows to represent a sequence of text as dense vector. These dense vectors, in turn, allow a meaningful representation of the texts' context and are a good starting point to build clusters."
   ]
  },
  {
   "cell_type": "code",
   "execution_count": 107,
   "id": "a5e8dba7-0636-4fb7-bfad-086094891c83",
   "metadata": {},
   "outputs": [],
   "source": [
    "from sentence_transformers import SentenceTransformer\n",
    "from sklearn.cluster import KMeans"
   ]
  },
  {
   "cell_type": "markdown",
   "id": "06c43b87-b5dc-4665-b387-bd1e18e9c5f0",
   "metadata": {},
   "source": [
    "Load the pretrained model:\n"
   ]
  },
  {
   "cell_type": "code",
   "execution_count": 127,
   "id": "e80e29d5-38a2-4e40-a0fd-b25f573c62ac",
   "metadata": {},
   "outputs": [],
   "source": [
    "transformer = SentenceTransformer('paraphrase-MiniLM-L6-v2')"
   ]
  },
  {
   "cell_type": "code",
   "execution_count": 128,
   "id": "bcd3c178-bc72-44e8-b069-aa5a8215dcf1",
   "metadata": {},
   "outputs": [],
   "source": [
    "text_embeddings = transformer.encode(df.text.apply(lambda x: x.lower()).reset_index(drop=True))"
   ]
  },
  {
   "cell_type": "code",
   "execution_count": 129,
   "id": "aabff440-7c8b-467a-8ad3-d5418759d1f5",
   "metadata": {},
   "outputs": [],
   "source": [
    "clusters = KMeans(n_clusters=9, random_state=0).fit(text_embeddings)"
   ]
  },
  {
   "cell_type": "code",
   "execution_count": 130,
   "id": "c4ceba5c-d1f0-4ca3-9ea1-1e7d2310b9a1",
   "metadata": {},
   "outputs": [
    {
     "data": {
      "text/plain": [
       "array([4, 2, 3, 3, 7, 1, 4, 0, 8, 8, 5, 5, 7, 4, 3, 6, 1, 7, 0, 2, 5, 7,\n",
       "       6, 5, 1, 8, 8, 3, 4, 6, 0, 2, 2, 1, 0])"
      ]
     },
     "execution_count": 130,
     "metadata": {},
     "output_type": "execute_result"
    }
   ],
   "source": [
    "clusters.labels_"
   ]
  },
  {
   "cell_type": "code",
   "execution_count": 131,
   "id": "260c29d9-d2ce-4448-bde6-00fd1af0d7cd",
   "metadata": {},
   "outputs": [],
   "source": [
    "df['cluster'] = clusters.labels_"
   ]
  },
  {
   "cell_type": "code",
   "execution_count": 138,
   "id": "145a2fbc-c5bc-467c-bcb7-7e3c37772fdd",
   "metadata": {},
   "outputs": [
    {
     "data": {
      "text/html": [
       "<div>\n",
       "<style scoped>\n",
       "    .dataframe tbody tr th:only-of-type {\n",
       "        vertical-align: middle;\n",
       "    }\n",
       "\n",
       "    .dataframe tbody tr th {\n",
       "        vertical-align: top;\n",
       "    }\n",
       "\n",
       "    .dataframe thead tr th {\n",
       "        text-align: left;\n",
       "    }\n",
       "\n",
       "    .dataframe thead tr:last-of-type th {\n",
       "        text-align: right;\n",
       "    }\n",
       "</style>\n",
       "<table border=\"1\" class=\"dataframe\">\n",
       "  <thead>\n",
       "    <tr>\n",
       "      <th></th>\n",
       "      <th colspan=\"9\" halign=\"left\">text</th>\n",
       "    </tr>\n",
       "    <tr>\n",
       "      <th>cluster</th>\n",
       "      <th>0</th>\n",
       "      <th>1</th>\n",
       "      <th>2</th>\n",
       "      <th>3</th>\n",
       "      <th>4</th>\n",
       "      <th>5</th>\n",
       "      <th>6</th>\n",
       "      <th>7</th>\n",
       "      <th>8</th>\n",
       "    </tr>\n",
       "    <tr>\n",
       "      <th>label</th>\n",
       "      <th></th>\n",
       "      <th></th>\n",
       "      <th></th>\n",
       "      <th></th>\n",
       "      <th></th>\n",
       "      <th></th>\n",
       "      <th></th>\n",
       "      <th></th>\n",
       "      <th></th>\n",
       "    </tr>\n",
       "  </thead>\n",
       "  <tbody>\n",
       "    <tr>\n",
       "      <th>artificial_bed_rest_nasa_study</th>\n",
       "      <td></td>\n",
       "      <td>4</td>\n",
       "      <td></td>\n",
       "      <td></td>\n",
       "      <td></td>\n",
       "      <td></td>\n",
       "      <td></td>\n",
       "      <td></td>\n",
       "      <td></td>\n",
       "    </tr>\n",
       "    <tr>\n",
       "      <th>climate_change_strike</th>\n",
       "      <td></td>\n",
       "      <td></td>\n",
       "      <td></td>\n",
       "      <td></td>\n",
       "      <td></td>\n",
       "      <td>4</td>\n",
       "      <td></td>\n",
       "      <td></td>\n",
       "      <td></td>\n",
       "    </tr>\n",
       "    <tr>\n",
       "      <th>fire_france_cathedral</th>\n",
       "      <td>4</td>\n",
       "      <td></td>\n",
       "      <td></td>\n",
       "      <td></td>\n",
       "      <td></td>\n",
       "      <td></td>\n",
       "      <td></td>\n",
       "      <td></td>\n",
       "      <td></td>\n",
       "    </tr>\n",
       "    <tr>\n",
       "      <th>health_foodguide_canada</th>\n",
       "      <td></td>\n",
       "      <td></td>\n",
       "      <td></td>\n",
       "      <td></td>\n",
       "      <td>4</td>\n",
       "      <td></td>\n",
       "      <td></td>\n",
       "      <td></td>\n",
       "      <td></td>\n",
       "    </tr>\n",
       "    <tr>\n",
       "      <th>linux_kernel_windows</th>\n",
       "      <td></td>\n",
       "      <td></td>\n",
       "      <td>4</td>\n",
       "      <td></td>\n",
       "      <td></td>\n",
       "      <td></td>\n",
       "      <td></td>\n",
       "      <td></td>\n",
       "      <td></td>\n",
       "    </tr>\n",
       "    <tr>\n",
       "      <th>meteor_shower_japan</th>\n",
       "      <td></td>\n",
       "      <td></td>\n",
       "      <td></td>\n",
       "      <td></td>\n",
       "      <td></td>\n",
       "      <td></td>\n",
       "      <td></td>\n",
       "      <td>4</td>\n",
       "      <td></td>\n",
       "    </tr>\n",
       "    <tr>\n",
       "      <th>pollution_national_parks</th>\n",
       "      <td></td>\n",
       "      <td></td>\n",
       "      <td></td>\n",
       "      <td></td>\n",
       "      <td></td>\n",
       "      <td></td>\n",
       "      <td></td>\n",
       "      <td></td>\n",
       "      <td>4</td>\n",
       "    </tr>\n",
       "    <tr>\n",
       "      <th>robotics_team_builds_wheelchair</th>\n",
       "      <td></td>\n",
       "      <td></td>\n",
       "      <td></td>\n",
       "      <td>4</td>\n",
       "      <td></td>\n",
       "      <td></td>\n",
       "      <td></td>\n",
       "      <td></td>\n",
       "      <td></td>\n",
       "    </tr>\n",
       "    <tr>\n",
       "      <th>uk_inflation_data</th>\n",
       "      <td></td>\n",
       "      <td></td>\n",
       "      <td></td>\n",
       "      <td></td>\n",
       "      <td></td>\n",
       "      <td></td>\n",
       "      <td>3</td>\n",
       "      <td></td>\n",
       "      <td></td>\n",
       "    </tr>\n",
       "  </tbody>\n",
       "</table>\n",
       "</div>"
      ],
      "text/plain": [
       "                                text                        \n",
       "cluster                            0  1  2  3  4  5  6  7  8\n",
       "label                                                       \n",
       "artificial_bed_rest_nasa_study        4                     \n",
       "climate_change_strike                             4         \n",
       "fire_france_cathedral              4                        \n",
       "health_foodguide_canada                        4            \n",
       "linux_kernel_windows                     4                  \n",
       "meteor_shower_japan                                     4   \n",
       "pollution_national_parks                                   4\n",
       "robotics_team_builds_wheelchair             4               \n",
       "uk_inflation_data                                    3      "
      ]
     },
     "execution_count": 138,
     "metadata": {},
     "output_type": "execute_result"
    }
   ],
   "source": [
    "pd.pivot_table(df, index=['label'], columns=['cluster'], aggfunc=lambda x: str(len(x)), fill_value='')"
   ]
  },
  {
   "cell_type": "markdown",
   "id": "8d426d09-4c57-4134-a746-a5241dfa9cfb",
   "metadata": {},
   "source": [
    "## Clustering as supervised classification task"
   ]
  },
  {
   "cell_type": "markdown",
   "id": "63b22ccc-3564-4253-a8cf-5da137211332",
   "metadata": {},
   "source": [
    "As text labels shall reflect the document cluster, we can think of this task as a (semi-)supervised scenario. Different model approaches exist for this purpose."
   ]
  },
  {
   "cell_type": "markdown",
   "id": "f58ae008-0372-4c7f-b685-729174fce4ee",
   "metadata": {},
   "source": [
    "Let's start with a simple discriminative classification model which takes vectorized texts as feature inputs and text labels as targets. Unlike common classifiers whose performance is typically evaluated on a hold out test set, in a clustering task, the ultimate goal is to cluster (group) the *given* texts (no train-(eval)-test split necessary). "
   ]
  },
  {
   "cell_type": "code",
   "execution_count": 36,
   "id": "5093f5b5-fd45-4177-8f86-d7fe16731f6a",
   "metadata": {},
   "outputs": [],
   "source": [
    "from sklearn.feature_extraction.text import TfidfVectorizer\n",
    "from sklearn.ensemble import RandomForestClassifier, GradientBoostingClassifier\n",
    "from sklearn.pipeline import Pipeline\n",
    "from sklearn.model_selection import GridSearchCV, RandomizedSearchCV"
   ]
  },
  {
   "cell_type": "markdown",
   "id": "9b77af71-82c2-4948-be23-78f0674876d1",
   "metadata": {},
   "source": [
    "Specifying a ML-pipeline to conveniently allow for hyper-parameter tuning."
   ]
  },
  {
   "cell_type": "code",
   "execution_count": 39,
   "id": "24e9c8a8-5ae9-4743-9f0c-a99e7bc82938",
   "metadata": {},
   "outputs": [],
   "source": [
    "pipeline = Pipeline([\n",
    "    # Vectorization of texts\n",
    "    ('vectorizer', TfidfVectorizer(\n",
    "        analyzer='word',                   # words as tokens\n",
    "        token_pattern='(?u)\\\\b\\\\w\\\\w+\\\\b', # default regex to split texts into word tokens\n",
    "        lowercase=True                     # lowercase words before tokenization which has not been done as part of the pre-processing \n",
    "    )),\n",
    "    # Classification model:\n",
    "    # Unlike other classification models such SVMs or neural networks, the tree-based structure of a RF is easier to grasp\n",
    "    # colleagues without quantitative background. It is important to communicate work to stakeholders!\n",
    "    ('classifier', RandomForestClassifier(\n",
    "        n_jobs=-1                          # run fitting of trees in parallel thereby efficiently using all our processing power\n",
    "    ))\n",
    "    ])"
   ]
  },
  {
   "cell_type": "markdown",
   "id": "cd3ff467-11de-4107-936f-d22da9d5bfb2",
   "metadata": {},
   "source": [
    "Define search spaces for those hyperparameters that shall be tuned in the subsequent random search."
   ]
  },
  {
   "cell_type": "code",
   "execution_count": 51,
   "id": "c79186b1-b22e-4ff9-a3ed-6c3a42761484",
   "metadata": {},
   "outputs": [],
   "source": [
    "parameters = {\n",
    "    'vectorizer__max_df': (0.5, 0.75, 1),               # ignore words which appear in more than the given fraction of documents - typically they carry no signal to discriminate between classes\n",
    "    'vectorizer__use_idf': (True, False),               # try both simple count vectorization and weighted count vectorization\n",
    "    'classifier__n_estimators': (50, 100, 150),         # how many trees to train\n",
    "    'classifier__min_samples_split': (2, 3, 4),         # minimum number of splits within a tree\n",
    "    'classifier__min_samples_leaf': (1, 2, 3, 4),       # minimum number of observations in terminal leafs\n",
    "}"
   ]
  },
  {
   "cell_type": "code",
   "execution_count": 49,
   "id": "ab858cac-97b0-4c49-b43c-7121c6cdcb7f",
   "metadata": {},
   "outputs": [],
   "source": [
    "search = RandomizedSearchCV(\n",
    "    pipeline,\n",
    "    parameters,\n",
    "    n_iter=100,\n",
    "    n_jobs=-1,\n",
    "    cv = 2)"
   ]
  },
  {
   "cell_type": "code",
   "execution_count": 50,
   "id": "48a37566-8846-4201-915e-98857517d946",
   "metadata": {},
   "outputs": [
    {
     "name": "stdout",
     "output_type": "stream",
     "text": [
      "Wall time: 7.45 s\n"
     ]
    },
    {
     "data": {
      "text/plain": [
       "RandomizedSearchCV(cv=2,\n",
       "                   estimator=Pipeline(steps=[('vectorizer', TfidfVectorizer()),\n",
       "                                             ('classifier',\n",
       "                                              RandomForestClassifier(n_jobs=-1))]),\n",
       "                   n_iter=100, n_jobs=-1,\n",
       "                   param_distributions={'classifier__min_samples_leaf': (1, 2,\n",
       "                                                                         3, 4),\n",
       "                                        'classifier__min_samples_split': (2, 3,\n",
       "                                                                          4),\n",
       "                                        'classifier__n_estimators': (50, 100,\n",
       "                                                                     150),\n",
       "                                        'vectorizer__max_df': (0.5, 0.75, 1),\n",
       "                                        'vectorizer__use_idf': (True, False)})"
      ]
     },
     "execution_count": 50,
     "metadata": {},
     "output_type": "execute_result"
    }
   ],
   "source": [
    "%%time\n",
    "search.fit(df.text, df.label)"
   ]
  },
  {
   "cell_type": "code",
   "execution_count": 62,
   "id": "3b28cb2f-905c-44eb-9d32-001abb3e9796",
   "metadata": {},
   "outputs": [
    {
     "data": {
      "text/plain": [
       "1.0"
      ]
     },
     "execution_count": 62,
     "metadata": {},
     "output_type": "execute_result"
    }
   ],
   "source": [
    "accurarcy = sum(search.predict(df.text)==df.label)/len(df)\n",
    "accurarcy"
   ]
  },
  {
   "cell_type": "markdown",
   "id": "72352254-a90d-49c8-b2e4-071b07922f6b",
   "metadata": {},
   "source": [
    "Classes reflect clusters and classification model allows perfect clustering. But unlikely that classes are known and discriminative nature of model leads to overfitting!"
   ]
  }
 ],
 "metadata": {
  "kernelspec": {
   "display_name": "Python 3 (ipykernel)",
   "language": "python",
   "name": "python3"
  },
  "language_info": {
   "codemirror_mode": {
    "name": "ipython",
    "version": 3
   },
   "file_extension": ".py",
   "mimetype": "text/x-python",
   "name": "python",
   "nbconvert_exporter": "python",
   "pygments_lexer": "ipython3",
   "version": "3.9.7"
  }
 },
 "nbformat": 4,
 "nbformat_minor": 5
}
