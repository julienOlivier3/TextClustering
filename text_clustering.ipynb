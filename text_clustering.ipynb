{
 "cells": [
  {
   "cell_type": "markdown",
   "id": "c71da86c-cf86-402a-bde2-44abc3bc039b",
   "metadata": {
    "tags": []
   },
   "source": [
    "# Document Clustering of News Articles"
   ]
  },
  {
   "cell_type": "markdown",
   "id": "d40c9878-6c49-469e-9b79-b710ceb1793b",
   "metadata": {},
   "source": [
    "After setting up a new GitHub repository and creating a virtual environment, I first install all required modules into the environment."
   ]
  },
  {
   "cell_type": "code",
   "execution_count": 1,
   "id": "e9815fe5-7d00-4c1e-abcd-2919a63e39f4",
   "metadata": {
    "tags": []
   },
   "outputs": [],
   "source": [
    "!pip install pandas numpy scikit-learn matplotlib sentence-transformers"
   ]
  },
  {
   "cell_type": "markdown",
   "id": "e6e40a11-add0-4c6c-8d3c-390846fa3aa6",
   "metadata": {
    "tags": []
   },
   "source": [
    "# Text inspection "
   ]
  },
  {
   "cell_type": "markdown",
   "id": "ee49815b-ab8c-486d-9acc-78ccb0544d68",
   "metadata": {},
   "source": [
    "Let's load the required modules"
   ]
  },
  {
   "cell_type": "code",
   "execution_count": 2,
   "id": "3198054a-547e-44fa-9c83-3b46bd38f39d",
   "metadata": {},
   "outputs": [],
   "source": [
    "import pandas as pd\n",
    "import numpy as np"
   ]
  },
  {
   "cell_type": "markdown",
   "id": "69e16d68-b941-4f7b-bfe6-3aae47978eee",
   "metadata": {},
   "source": [
    "Let us load the texts and labels and get a first impression of the data."
   ]
  },
  {
   "cell_type": "code",
   "execution_count": 3,
   "id": "9a3c40b7-e093-409c-8fb3-b82adfcc5983",
   "metadata": {},
   "outputs": [],
   "source": [
    "texts = pd.read_csv('./preproc_texts.csv', header=None, names=['text'])\n",
    "labels = pd.read_csv('./labels.csv', header=None, names=['label'])"
   ]
  },
  {
   "cell_type": "code",
   "execution_count": 4,
   "id": "24b4df1e-2e10-4894-aeb8-f0a5dc366a3f",
   "metadata": {},
   "outputs": [
    {
     "data": {
      "text/html": [
       "<div>\n",
       "<style scoped>\n",
       "    .dataframe tbody tr th:only-of-type {\n",
       "        vertical-align: middle;\n",
       "    }\n",
       "\n",
       "    .dataframe tbody tr th {\n",
       "        vertical-align: top;\n",
       "    }\n",
       "\n",
       "    .dataframe thead th {\n",
       "        text-align: right;\n",
       "    }\n",
       "</style>\n",
       "<table border=\"1\" class=\"dataframe\">\n",
       "  <thead>\n",
       "    <tr style=\"text-align: right;\">\n",
       "      <th></th>\n",
       "      <th>text</th>\n",
       "      <th>label</th>\n",
       "    </tr>\n",
       "  </thead>\n",
       "  <tbody>\n",
       "    <tr>\n",
       "      <th>25</th>\n",
       "      <td>Offers of support began streaming in almost fa...</td>\n",
       "      <td>climate_change_strike</td>\n",
       "    </tr>\n",
       "    <tr>\n",
       "      <th>31</th>\n",
       "      <td>UK inflation unexpectedly stayed at a one year...</td>\n",
       "      <td>uk_inflation_data</td>\n",
       "    </tr>\n",
       "    <tr>\n",
       "      <th>23</th>\n",
       "      <td>Tomorrow morning an rocket will blast off from...</td>\n",
       "      <td>meteor_shower_japan</td>\n",
       "    </tr>\n",
       "    <tr>\n",
       "      <th>10</th>\n",
       "      <td>Climate change is the greatest threat that we ...</td>\n",
       "      <td>climate_change_strike</td>\n",
       "    </tr>\n",
       "    <tr>\n",
       "      <th>7</th>\n",
       "      <td>Battered but still standing Notre Dame still t...</td>\n",
       "      <td>fire_france_cathedral</td>\n",
       "    </tr>\n",
       "  </tbody>\n",
       "</table>\n",
       "</div>"
      ],
      "text/plain": [
       "                                                 text                  label\n",
       "25  Offers of support began streaming in almost fa...  climate_change_strike\n",
       "31  UK inflation unexpectedly stayed at a one year...      uk_inflation_data\n",
       "23  Tomorrow morning an rocket will blast off from...    meteor_shower_japan\n",
       "10  Climate change is the greatest threat that we ...  climate_change_strike\n",
       "7   Battered but still standing Notre Dame still t...  fire_france_cathedral"
      ]
     },
     "execution_count": 4,
     "metadata": {},
     "output_type": "execute_result"
    }
   ],
   "source": [
    "df = texts.merge(labels, left_index=True, right_index=True)\n",
    "df.sample(5)"
   ]
  },
  {
   "cell_type": "markdown",
   "id": "296bcf52-1343-40ef-95f0-e7a663de3361",
   "metadata": {},
   "source": [
    "How does the length of the texts look like? Any outliers?"
   ]
  },
  {
   "cell_type": "code",
   "execution_count": 5,
   "id": "ab762074-ac69-4b3c-a36c-581fb565201e",
   "metadata": {},
   "outputs": [
    {
     "data": {
      "text/plain": [
       "<AxesSubplot:ylabel='Frequency'>"
      ]
     },
     "execution_count": 5,
     "metadata": {},
     "output_type": "execute_result"
    },
    {
     "data": {
      "image/png": "[encoded data removed]",
      "text/plain": [
       "<Figure size 432x288 with 1 Axes>"
      ]
     },
     "metadata": {
      "needs_background": "light"
     },
     "output_type": "display_data"
    }
   ],
   "source": [
    "df.text.apply(len).plot(kind=\"hist\")"
   ]
  },
  {
   "cell_type": "markdown",
   "id": "2a3f0e52-c4d8-48a8-8100-4152f051effc",
   "metadata": {},
   "source": [
    "There are some rather small news articles. Are they somehow special which is why we should treat them as \"outliers\" possibly removing from further analysis?"
   ]
  },
  {
   "cell_type": "code",
   "execution_count": 6,
   "id": "eaa88d9f-4d63-4824-bf02-e9d0e7b416d3",
   "metadata": {},
   "outputs": [
    {
     "data": {
      "text/html": [
       "<style type=\"text/css\">\n",
       "#T_d55a6_row0_col0, #T_d55a6_row1_col0, #T_d55a6_row2_col0, #T_d55a6_row3_col0, #T_d55a6_row4_col0 {\n",
       "  width: 900px;\n",
       "}\n",
       "</style>\n",
       "<table id=\"T_d55a6\">\n",
       "  <thead>\n",
       "    <tr>\n",
       "      <th class=\"blank level0\" >&nbsp;</th>\n",
       "      <th id=\"T_d55a6_level0_col0\" class=\"col_heading level0 col0\" >text</th>\n",
       "      <th id=\"T_d55a6_level0_col1\" class=\"col_heading level0 col1\" >label</th>\n",
       "    </tr>\n",
       "  </thead>\n",
       "  <tbody>\n",
       "    <tr>\n",
       "      <th id=\"T_d55a6_level0_row0\" class=\"row_heading level0 row0\" >10</th>\n",
       "      <td id=\"T_d55a6_row0_col0\" class=\"data row0 col0\" >Climate change is the greatest threat that we all face but it is the school kids of today whose futures are most on the line They are right to feel let down by the generation before them and it inspiring to see them making their voice heard today</td>\n",
       "      <td id=\"T_d55a6_row0_col1\" class=\"data row0 col1\" >climate_change_strike</td>\n",
       "    </tr>\n",
       "    <tr>\n",
       "      <th id=\"T_d55a6_level0_row1\" class=\"row_heading level0 row1\" >12</th>\n",
       "      <td id=\"T_d55a6_row1_col0\" class=\"data row1 col0\" >Why did this happen Please make sure your browser supports JavaScript and cookies and that you are not blocking them from loading For more information you can review our Terms of Service and Cookie Policy</td>\n",
       "      <td id=\"T_d55a6_row1_col1\" class=\"data row1 col1\" >pollution_national_parks</td>\n",
       "    </tr>\n",
       "    <tr>\n",
       "      <th id=\"T_d55a6_level0_row2\" class=\"row_heading level0 row2\" >14</th>\n",
       "      <td id=\"T_d55a6_row2_col0\" class=\"data row2 col0\" >What term do you want to search Search with google</td>\n",
       "      <td id=\"T_d55a6_row2_col1\" class=\"data row2 col1\" >uk_inflation_data</td>\n",
       "    </tr>\n",
       "    <tr>\n",
       "      <th id=\"T_d55a6_level0_row3\" class=\"row_heading level0 row3\" >28</th>\n",
       "      <td id=\"T_d55a6_row3_col0\" class=\"data row3 col0\" >Researchers at Iowa State and Cornell universities looked at more than two decades of data on ozone pollution at parks from Shenandoah to Yellowstone the Grand Canyon and Yosemite They say visitor numbers dropped almost percent when ozone levels went up even slightly and by at least percent in months with three or more days of high ozone levels compared with months with fewer days of high ozone</td>\n",
       "      <td id=\"T_d55a6_row3_col1\" class=\"data row3 col1\" >pollution_national_parks</td>\n",
       "    </tr>\n",
       "    <tr>\n",
       "      <th id=\"T_d55a6_level0_row4\" class=\"row_heading level0 row4\" >32</th>\n",
       "      <td id=\"T_d55a6_row4_col0\" class=\"data row4 col0\" >Historian Camille Pascal told French broadcaster BFMTV that invaluable heritage had been destroyed adding Happy and unfortunate events for centuries have been marked by the bells of Notre Dame We can be only horrified by what we see</td>\n",
       "      <td id=\"T_d55a6_row4_col1\" class=\"data row4 col1\" >fire_france_cathedral</td>\n",
       "    </tr>\n",
       "  </tbody>\n",
       "</table>\n"
      ],
      "text/plain": [
       "<pandas.io.formats.style.Styler at 0x2df347734c0>"
      ]
     },
     "execution_count": 6,
     "metadata": {},
     "output_type": "execute_result"
    }
   ],
   "source": [
    "df.loc[df.text.apply(len)<500].style.set_properties(subset=['text'], **{'width': '900px'})"
   ]
  },
  {
   "cell_type": "markdown",
   "id": "ab44c74a-4d90-4f57-93ac-9e1860ab9863",
   "metadata": {},
   "source": [
    "Indeed, it looks like that the news text with indices **12** and **14** do not really represent news articles. To me, these observations should be disregarded in the cluster analysis."
   ]
  },
  {
   "cell_type": "code",
   "execution_count": 7,
   "id": "1fdcc68a-fb4d-4cf1-8708-e53e726a900d",
   "metadata": {},
   "outputs": [],
   "source": [
    "df.drop(index=[12,14], inplace=True)"
   ]
  },
  {
   "cell_type": "markdown",
   "id": "6105a930-089e-4b9f-8289-864bfaa9041b",
   "metadata": {},
   "source": [
    "Let us take a quick look at the labels. The clusters are supposed to reflect the labels, so the number of labels gives us already the most important parameter one typically needs to decider over in cluster analysis: the **number of clusters (k)**."
   ]
  },
  {
   "cell_type": "code",
   "execution_count": 8,
   "id": "379fb619-1347-4f9d-adec-856f30b647e0",
   "metadata": {},
   "outputs": [
    {
     "data": {
      "text/plain": [
       "<AxesSubplot:>"
      ]
     },
     "execution_count": 8,
     "metadata": {},
     "output_type": "execute_result"
    },
    {
     "data": {
      "image/png": "[encoded data removed]",
      "text/plain": [
       "<Figure size 432x288 with 1 Axes>"
      ]
     },
     "metadata": {
      "needs_background": "light"
     },
     "output_type": "display_data"
    }
   ],
   "source": [
    "df.label.value_counts().plot(kind=\"bar\")"
   ]
  },
  {
   "cell_type": "markdown",
   "id": "38d1aa92-f6f7-4ac3-9828-f950aedadb91",
   "metadata": {},
   "source": [
    "There are **k = 9** distinct labels and the articles are equally distributed across labels."
   ]
  },
  {
   "cell_type": "code",
   "execution_count": 9,
   "id": "75f00c8e-a4ae-44db-800f-83fbf708ef14",
   "metadata": {},
   "outputs": [],
   "source": [
    "k = 9"
   ]
  },
  {
   "cell_type": "markdown",
   "id": "c160b9ee-70a6-4c52-a83a-f48bbfd6f599",
   "metadata": {
    "tags": []
   },
   "source": [
    "# Text clustering"
   ]
  },
  {
   "cell_type": "markdown",
   "id": "6ccf6939-501d-4f99-b6df-ea47d7a83829",
   "metadata": {},
   "source": [
    "A crucial step in text analysis is the question how to translate text into vectors, i.e. numerical representations of the text (or its tokens).\n",
    "Depending on how the **vectorization** of the texts is conducted, I can think of two approaches how to solve the unsupervised clustering task:\n",
    "- Bag of Words (BoW) approach + clustering\n",
    "- Embedding approach using a pretrained transformer model + clustering\n"
   ]
  },
  {
   "cell_type": "markdown",
   "id": "f7c2800b-51db-46f5-8d0b-6ee4e4727452",
   "metadata": {},
   "source": [
    "## Bag of Words approach + kMeans clustering"
   ]
  },
  {
   "cell_type": "markdown",
   "id": "f7648c18-d936-40be-a8e2-5633335fffd5",
   "metadata": {},
   "source": [
    "**Intuition**:<br>\n",
    "In BoW, we assume that texts consist of a collection of words neglecting how the words are ordered and structured in the text. Typically, we simply count (and weigh) the occurrence of words in the text given a predefined vocabulary list. -> sparse, high dimensional vectors\n",
    "\n",
    "**Advantage**:<br>\n",
    "- intuitive and comparatively easy to communicate to stakeholders\n",
    "\n",
    "**Disadvantage**:<br>\n",
    "- important characteristics of human language neglected (word order, syntax, relationship between words, context)"
   ]
  },
  {
   "cell_type": "code",
   "execution_count": 10,
   "id": "b90377e1-1f4f-496f-b593-26262a71e8d6",
   "metadata": {},
   "outputs": [],
   "source": [
    "from sklearn.feature_extraction.text import TfidfVectorizer\n",
    "from sklearn.cluster import KMeans"
   ]
  },
  {
   "cell_type": "markdown",
   "id": "4d6cc85f-1d26-4943-9078-18d016d2aa03",
   "metadata": {},
   "source": [
    "First, we count the number of times a word occurs in a given news article and give the respective word a higher weight if it appears no too often across all documents."
   ]
  },
  {
   "cell_type": "code",
   "execution_count": 11,
   "id": "1c77a22e-ed88-4ea2-8769-b7ee6d13b0e7",
   "metadata": {},
   "outputs": [
    {
     "data": {
      "text/plain": [
       "<35x1995 sparse matrix of type '<class 'numpy.float64'>'\n",
       "\twith 4435 stored elements in Compressed Sparse Row format>"
      ]
     },
     "execution_count": 11,
     "metadata": {},
     "output_type": "execute_result"
    }
   ],
   "source": [
    "sparse_vectors = TfidfVectorizer(\n",
    "    analyzer = 'word',             # words as tokens\n",
    "    lowercase = True,              # lowercase words\n",
    ").fit_transform(df.text.values)\n",
    "sparse_vectors"
   ]
  },
  {
   "cell_type": "markdown",
   "id": "5b822d2d-dbaa-4134-bf16-2785fb26483c",
   "metadata": {},
   "source": [
    "This translates into high-dimensional (dimension equals the number vocabulary) vectors including many zeros (for tokens that do not appear in the respective article)."
   ]
  },
  {
   "cell_type": "code",
   "execution_count": 12,
   "id": "6b3004c3-9020-4708-a9d3-68bb8325b88c",
   "metadata": {},
   "outputs": [
    {
     "name": "stdout",
     "output_type": "stream",
     "text": [
      "Document vectors have length 1995: [0.06095117 0.         0.         ... 0.         0.         0.        ]\n"
     ]
    }
   ],
   "source": [
    "print(f\"Document vectors have length {sparse_vectors.toarray()[1].shape[0]}: {sparse_vectors.toarray()[1]}\")"
   ]
  },
  {
   "cell_type": "markdown",
   "id": "7ad24aac-f1ea-4231-8fbf-d1fec487767d",
   "metadata": {},
   "source": [
    "Now, we use the vectorized documents to form clusters. Let's us use kMeans clustering which is an intuitive and rather easy to communicate clustering approach: Assign documents to clusters such that deviation from the cluster center (from the \"average document\" within the cluster) is minimized."
   ]
  },
  {
   "cell_type": "code",
   "execution_count": 13,
   "id": "630912b9-9b8b-4934-b8e6-8f74b156576e",
   "metadata": {},
   "outputs": [],
   "source": [
    "clusters = KMeans(n_clusters=k, random_state=0).fit(sparse_vectors)"
   ]
  },
  {
   "cell_type": "code",
   "execution_count": 14,
   "id": "304d6f41-4a4b-4b19-870a-bc4af9428624",
   "metadata": {},
   "outputs": [],
   "source": [
    "df['cluster'] = clusters.labels_"
   ]
  },
  {
   "cell_type": "code",
   "execution_count": 15,
   "id": "ba9eb7f0-8043-434e-982a-f3da54aea736",
   "metadata": {},
   "outputs": [
    {
     "data": {
      "text/html": [
       "<div>\n",
       "<style scoped>\n",
       "    .dataframe tbody tr th:only-of-type {\n",
       "        vertical-align: middle;\n",
       "    }\n",
       "\n",
       "    .dataframe tbody tr th {\n",
       "        vertical-align: top;\n",
       "    }\n",
       "\n",
       "    .dataframe thead tr th {\n",
       "        text-align: left;\n",
       "    }\n",
       "\n",
       "    .dataframe thead tr:last-of-type th {\n",
       "        text-align: right;\n",
       "    }\n",
       "</style>\n",
       "<table border=\"1\" class=\"dataframe\">\n",
       "  <thead>\n",
       "    <tr>\n",
       "      <th></th>\n",
       "      <th colspan=\"9\" halign=\"left\">text</th>\n",
       "    </tr>\n",
       "    <tr>\n",
       "      <th>cluster</th>\n",
       "      <th>0</th>\n",
       "      <th>1</th>\n",
       "      <th>2</th>\n",
       "      <th>3</th>\n",
       "      <th>4</th>\n",
       "      <th>5</th>\n",
       "      <th>6</th>\n",
       "      <th>7</th>\n",
       "      <th>8</th>\n",
       "    </tr>\n",
       "    <tr>\n",
       "      <th>label</th>\n",
       "      <th></th>\n",
       "      <th></th>\n",
       "      <th></th>\n",
       "      <th></th>\n",
       "      <th></th>\n",
       "      <th></th>\n",
       "      <th></th>\n",
       "      <th></th>\n",
       "      <th></th>\n",
       "    </tr>\n",
       "  </thead>\n",
       "  <tbody>\n",
       "    <tr>\n",
       "      <th>artificial_bed_rest_nasa_study</th>\n",
       "      <td></td>\n",
       "      <td></td>\n",
       "      <td></td>\n",
       "      <td></td>\n",
       "      <td></td>\n",
       "      <td>4</td>\n",
       "      <td></td>\n",
       "      <td></td>\n",
       "      <td></td>\n",
       "    </tr>\n",
       "    <tr>\n",
       "      <th>climate_change_strike</th>\n",
       "      <td></td>\n",
       "      <td>4</td>\n",
       "      <td></td>\n",
       "      <td></td>\n",
       "      <td></td>\n",
       "      <td></td>\n",
       "      <td></td>\n",
       "      <td></td>\n",
       "      <td></td>\n",
       "    </tr>\n",
       "    <tr>\n",
       "      <th>fire_france_cathedral</th>\n",
       "      <td></td>\n",
       "      <td>3</td>\n",
       "      <td></td>\n",
       "      <td></td>\n",
       "      <td></td>\n",
       "      <td></td>\n",
       "      <td></td>\n",
       "      <td></td>\n",
       "      <td>1</td>\n",
       "    </tr>\n",
       "    <tr>\n",
       "      <th>health_foodguide_canada</th>\n",
       "      <td></td>\n",
       "      <td></td>\n",
       "      <td></td>\n",
       "      <td></td>\n",
       "      <td></td>\n",
       "      <td></td>\n",
       "      <td>4</td>\n",
       "      <td></td>\n",
       "      <td></td>\n",
       "    </tr>\n",
       "    <tr>\n",
       "      <th>linux_kernel_windows</th>\n",
       "      <td></td>\n",
       "      <td></td>\n",
       "      <td></td>\n",
       "      <td>4</td>\n",
       "      <td></td>\n",
       "      <td></td>\n",
       "      <td></td>\n",
       "      <td></td>\n",
       "      <td></td>\n",
       "    </tr>\n",
       "    <tr>\n",
       "      <th>meteor_shower_japan</th>\n",
       "      <td>4</td>\n",
       "      <td></td>\n",
       "      <td></td>\n",
       "      <td></td>\n",
       "      <td></td>\n",
       "      <td></td>\n",
       "      <td></td>\n",
       "      <td></td>\n",
       "      <td></td>\n",
       "    </tr>\n",
       "    <tr>\n",
       "      <th>pollution_national_parks</th>\n",
       "      <td></td>\n",
       "      <td></td>\n",
       "      <td></td>\n",
       "      <td></td>\n",
       "      <td>4</td>\n",
       "      <td></td>\n",
       "      <td></td>\n",
       "      <td></td>\n",
       "      <td></td>\n",
       "    </tr>\n",
       "    <tr>\n",
       "      <th>robotics_team_builds_wheelchair</th>\n",
       "      <td></td>\n",
       "      <td></td>\n",
       "      <td>4</td>\n",
       "      <td></td>\n",
       "      <td></td>\n",
       "      <td></td>\n",
       "      <td></td>\n",
       "      <td></td>\n",
       "      <td></td>\n",
       "    </tr>\n",
       "    <tr>\n",
       "      <th>uk_inflation_data</th>\n",
       "      <td></td>\n",
       "      <td></td>\n",
       "      <td></td>\n",
       "      <td></td>\n",
       "      <td></td>\n",
       "      <td></td>\n",
       "      <td></td>\n",
       "      <td>3</td>\n",
       "      <td></td>\n",
       "    </tr>\n",
       "  </tbody>\n",
       "</table>\n",
       "</div>"
      ],
      "text/plain": [
       "                                text                        \n",
       "cluster                            0  1  2  3  4  5  6  7  8\n",
       "label                                                       \n",
       "artificial_bed_rest_nasa_study                    4         \n",
       "climate_change_strike                 4                     \n",
       "fire_france_cathedral                 3                    1\n",
       "health_foodguide_canada                              4      \n",
       "linux_kernel_windows                        4               \n",
       "meteor_shower_japan                4                        \n",
       "pollution_national_parks                       4            \n",
       "robotics_team_builds_wheelchair          4                  \n",
       "uk_inflation_data                                       3   "
      ]
     },
     "execution_count": 15,
     "metadata": {},
     "output_type": "execute_result"
    }
   ],
   "source": [
    "pd.pivot_table(df, index=['label'], columns=['cluster'], aggfunc=lambda x: str(len(x)), fill_value='')"
   ]
  },
  {
   "cell_type": "markdown",
   "id": "bff31f0c-596e-4bcc-831e-96aeeeeb7717",
   "metadata": {},
   "source": [
    "**Result**:<br>\n",
    "Most of the clusters are \"pure\". This means that the articles with the same labels fall into the same cluster except for cluster **1**. Possibly, one could further improve the results using variants of the vectorization approach and the cluster algorithm."
   ]
  },
  {
   "cell_type": "markdown",
   "id": "91c64d5f-d224-42ef-95ac-2a41a17affca",
   "metadata": {},
   "source": [
    "## Embedding approach + kMeans clustering "
   ]
  },
  {
   "cell_type": "markdown",
   "id": "dcdfea11-2d79-493c-9dbd-6bc2e3bd956b",
   "metadata": {},
   "source": [
    "**Intuition**:<br>\n",
    "In this second approach, we use the power of pre-trained transformer models. These are large (many parameters) neural networks with a complex architecture (bidirectional encoders) that are trained on massive amount of text corpora. Exploiting word co-occurence statistics found in these text corpora allows to represent words or a sequence of words (i.e. a text) as low-dimensional vectors (embeddings). Many of these pre-trained models are available to public for further fine-tuning or for \"off-the-shelf\" usage. We use them as input to our clustering algorithm.\n",
    "\n",
    "**Advantage**:<br>\n",
    "- vectors represent semantics or even \"context\" of the underlying text\n",
    "- likely better clustering results\n",
    "\n",
    "**Disadvantage**:<br>\n",
    "- third party dependence (pre-training!)\n",
    "- long range sequences require special consideration"
   ]
  },
  {
   "cell_type": "code",
   "execution_count": 16,
   "id": "a5e8dba7-0636-4fb7-bfad-086094891c83",
   "metadata": {},
   "outputs": [],
   "source": [
    "from sentence_transformers import SentenceTransformer"
   ]
  },
  {
   "cell_type": "markdown",
   "id": "06c43b87-b5dc-4665-b387-bd1e18e9c5f0",
   "metadata": {},
   "source": [
    "Load the pretrained model and conduct the vectorization:"
   ]
  },
  {
   "cell_type": "code",
   "execution_count": 17,
   "id": "e80e29d5-38a2-4e40-a0fd-b25f573c62ac",
   "metadata": {},
   "outputs": [],
   "source": [
    "transformer = SentenceTransformer('paraphrase-MiniLM-L6-v2')\n",
    "dense_vectors = transformer.encode(df.text.apply(lambda x: x.lower()).reset_index(drop=True))"
   ]
  },
  {
   "cell_type": "code",
   "execution_count": 18,
   "id": "ff2936de-3edd-4748-8fbb-44e9e35776a2",
   "metadata": {},
   "outputs": [
    {
     "name": "stdout",
     "output_type": "stream",
     "text": [
      "Document vectors have length 384: [-0.06677002 -0.37917024 -0.10977136 -0.22782776 -0.21458885] ...\n"
     ]
    }
   ],
   "source": [
    "print(f\"Document vectors have length {dense_vectors[1].shape[0]}: {dense_vectors[1][0:5]} ...\")"
   ]
  },
  {
   "cell_type": "markdown",
   "id": "fb75197a-e84c-4474-bb84-e8d56e7f2035",
   "metadata": {},
   "source": [
    "Note that only the 128 first tokens of the texts will be considered by the model."
   ]
  },
  {
   "cell_type": "code",
   "execution_count": 19,
   "id": "a48f447e-1d98-4676-a51e-7830881c1c9c",
   "metadata": {},
   "outputs": [
    {
     "data": {
      "text/plain": [
       "128"
      ]
     },
     "execution_count": 19,
     "metadata": {},
     "output_type": "execute_result"
    }
   ],
   "source": [
    "transformer.max_seq_length"
   ]
  },
  {
   "cell_type": "markdown",
   "id": "b00c6eb1-f432-4e86-b337-8a139d3fc5c4",
   "metadata": {},
   "source": [
    "Also the tokenization approach is inherent to the model which is why we feed in the raw texts above."
   ]
  },
  {
   "cell_type": "code",
   "execution_count": 20,
   "id": "adb22813-25f1-487d-aa67-25709bab8604",
   "metadata": {},
   "outputs": [
    {
     "data": {
      "text/plain": [
       "['how', 'are', 'you', 'today', '?']"
      ]
     },
     "execution_count": 20,
     "metadata": {},
     "output_type": "execute_result"
    }
   ],
   "source": [
    "transformer.tokenizer.tokenize('How are you today?')"
   ]
  },
  {
   "cell_type": "code",
   "execution_count": 21,
   "id": "aabff440-7c8b-467a-8ad3-d5418759d1f5",
   "metadata": {},
   "outputs": [],
   "source": [
    "clusters = KMeans(n_clusters=k, random_state=0).fit(dense_vectors)"
   ]
  },
  {
   "cell_type": "code",
   "execution_count": 22,
   "id": "260c29d9-d2ce-4448-bde6-00fd1af0d7cd",
   "metadata": {},
   "outputs": [],
   "source": [
    "df['cluster'] = clusters.labels_"
   ]
  },
  {
   "cell_type": "code",
   "execution_count": 23,
   "id": "145a2fbc-c5bc-467c-bcb7-7e3c37772fdd",
   "metadata": {},
   "outputs": [
    {
     "data": {
      "text/html": [
       "<div>\n",
       "<style scoped>\n",
       "    .dataframe tbody tr th:only-of-type {\n",
       "        vertical-align: middle;\n",
       "    }\n",
       "\n",
       "    .dataframe tbody tr th {\n",
       "        vertical-align: top;\n",
       "    }\n",
       "\n",
       "    .dataframe thead tr th {\n",
       "        text-align: left;\n",
       "    }\n",
       "\n",
       "    .dataframe thead tr:last-of-type th {\n",
       "        text-align: right;\n",
       "    }\n",
       "</style>\n",
       "<table border=\"1\" class=\"dataframe\">\n",
       "  <thead>\n",
       "    <tr>\n",
       "      <th></th>\n",
       "      <th colspan=\"9\" halign=\"left\">text</th>\n",
       "    </tr>\n",
       "    <tr>\n",
       "      <th>cluster</th>\n",
       "      <th>0</th>\n",
       "      <th>1</th>\n",
       "      <th>2</th>\n",
       "      <th>3</th>\n",
       "      <th>4</th>\n",
       "      <th>5</th>\n",
       "      <th>6</th>\n",
       "      <th>7</th>\n",
       "      <th>8</th>\n",
       "    </tr>\n",
       "    <tr>\n",
       "      <th>label</th>\n",
       "      <th></th>\n",
       "      <th></th>\n",
       "      <th></th>\n",
       "      <th></th>\n",
       "      <th></th>\n",
       "      <th></th>\n",
       "      <th></th>\n",
       "      <th></th>\n",
       "      <th></th>\n",
       "    </tr>\n",
       "  </thead>\n",
       "  <tbody>\n",
       "    <tr>\n",
       "      <th>artificial_bed_rest_nasa_study</th>\n",
       "      <td></td>\n",
       "      <td>4</td>\n",
       "      <td></td>\n",
       "      <td></td>\n",
       "      <td></td>\n",
       "      <td></td>\n",
       "      <td></td>\n",
       "      <td></td>\n",
       "      <td></td>\n",
       "    </tr>\n",
       "    <tr>\n",
       "      <th>climate_change_strike</th>\n",
       "      <td></td>\n",
       "      <td></td>\n",
       "      <td></td>\n",
       "      <td></td>\n",
       "      <td></td>\n",
       "      <td>4</td>\n",
       "      <td></td>\n",
       "      <td></td>\n",
       "      <td></td>\n",
       "    </tr>\n",
       "    <tr>\n",
       "      <th>fire_france_cathedral</th>\n",
       "      <td>4</td>\n",
       "      <td></td>\n",
       "      <td></td>\n",
       "      <td></td>\n",
       "      <td></td>\n",
       "      <td></td>\n",
       "      <td></td>\n",
       "      <td></td>\n",
       "      <td></td>\n",
       "    </tr>\n",
       "    <tr>\n",
       "      <th>health_foodguide_canada</th>\n",
       "      <td></td>\n",
       "      <td></td>\n",
       "      <td></td>\n",
       "      <td></td>\n",
       "      <td>4</td>\n",
       "      <td></td>\n",
       "      <td></td>\n",
       "      <td></td>\n",
       "      <td></td>\n",
       "    </tr>\n",
       "    <tr>\n",
       "      <th>linux_kernel_windows</th>\n",
       "      <td></td>\n",
       "      <td></td>\n",
       "      <td>4</td>\n",
       "      <td></td>\n",
       "      <td></td>\n",
       "      <td></td>\n",
       "      <td></td>\n",
       "      <td></td>\n",
       "      <td></td>\n",
       "    </tr>\n",
       "    <tr>\n",
       "      <th>meteor_shower_japan</th>\n",
       "      <td></td>\n",
       "      <td></td>\n",
       "      <td></td>\n",
       "      <td></td>\n",
       "      <td></td>\n",
       "      <td></td>\n",
       "      <td></td>\n",
       "      <td>4</td>\n",
       "      <td></td>\n",
       "    </tr>\n",
       "    <tr>\n",
       "      <th>pollution_national_parks</th>\n",
       "      <td></td>\n",
       "      <td></td>\n",
       "      <td></td>\n",
       "      <td></td>\n",
       "      <td></td>\n",
       "      <td></td>\n",
       "      <td></td>\n",
       "      <td></td>\n",
       "      <td>4</td>\n",
       "    </tr>\n",
       "    <tr>\n",
       "      <th>robotics_team_builds_wheelchair</th>\n",
       "      <td></td>\n",
       "      <td></td>\n",
       "      <td></td>\n",
       "      <td>4</td>\n",
       "      <td></td>\n",
       "      <td></td>\n",
       "      <td></td>\n",
       "      <td></td>\n",
       "      <td></td>\n",
       "    </tr>\n",
       "    <tr>\n",
       "      <th>uk_inflation_data</th>\n",
       "      <td></td>\n",
       "      <td></td>\n",
       "      <td></td>\n",
       "      <td></td>\n",
       "      <td></td>\n",
       "      <td></td>\n",
       "      <td>3</td>\n",
       "      <td></td>\n",
       "      <td></td>\n",
       "    </tr>\n",
       "  </tbody>\n",
       "</table>\n",
       "</div>"
      ],
      "text/plain": [
       "                                text                        \n",
       "cluster                            0  1  2  3  4  5  6  7  8\n",
       "label                                                       \n",
       "artificial_bed_rest_nasa_study        4                     \n",
       "climate_change_strike                             4         \n",
       "fire_france_cathedral              4                        \n",
       "health_foodguide_canada                        4            \n",
       "linux_kernel_windows                     4                  \n",
       "meteor_shower_japan                                     4   \n",
       "pollution_national_parks                                   4\n",
       "robotics_team_builds_wheelchair             4               \n",
       "uk_inflation_data                                    3      "
      ]
     },
     "execution_count": 23,
     "metadata": {},
     "output_type": "execute_result"
    }
   ],
   "source": [
    "pd.pivot_table(df, index=['label'], columns=['cluster'], aggfunc=lambda x: str(len(x)), fill_value='')"
   ]
  },
  {
   "cell_type": "markdown",
   "id": "a88734fb-b52c-437d-99bd-f242ddb82acb",
   "metadata": {},
   "source": [
    "**Result**:<br> All of the clusters are \"pure\" for the embedding approach."
   ]
  },
  {
   "cell_type": "markdown",
   "id": "073ed3c4-2cdd-43f9-a5e8-d643d63859ad",
   "metadata": {},
   "source": [
    "~~~~~~~~~~~~~~~~~~~~~~~~~~~~~~~~~~~~~~~~\n",
    "\n",
    "Happy to discuss the use case with you :)\n",
    "\n",
    "~~~~~~~~~~~~~~~~~~~~~~~~~~~~~~~~~~~~~~~~<br>"
   ]
  }
 ],
 "metadata": {
  "kernelspec": {
   "display_name": "Python 3 (ipykernel)",
   "language": "python",
   "name": "python3"
  },
  "language_info": {
   "codemirror_mode": {
    "name": "ipython",
    "version": 3
   },
   "file_extension": ".py",
   "mimetype": "text/x-python",
   "name": "python",
   "nbconvert_exporter": "python",
   "pygments_lexer": "ipython3",
   "version": "3.9.7"
  }
 },
 "nbformat": 4,
 "nbformat_minor": 5
}
